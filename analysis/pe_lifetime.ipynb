{
 "cells": [
  {
   "cell_type": "markdown",
   "metadata": {},
   "source": [
    "This notebook aims to discuss different methods of estimating lightning NOx production efficiency (PE)."
   ]
  },
  {
   "cell_type": "markdown",
   "metadata": {},
   "source": [
    "## Method 1: time series"
   ]
  },
  {
   "cell_type": "markdown",
   "metadata": {},
   "source": [
    "Because the TROPOMI passes over the Arctic convection for multiple times, we can use that to calculate the PE and lifetime ($\\tau$)."
   ]
  },
  {
   "cell_type": "markdown",
   "metadata": {},
   "source": [
    "$NO_{2_{T1}}$ = $NO_{2_{T0}}$ $e^{-(T_1-T_0)}$ + $\\sum_{i=1}^{m} LNO_{2_{t_i}} e^\\frac{{-(t_i-T_0)}}{\\tau}$\n",
    "\n",
    "$NO_{2_{T2}}$ = $NO_{2_{T1}}$ $e^{-(T_2-T_1)}$ + $\\sum_{j=1}^{n} LNO_{2_{t_j}} e^\\frac{{-(t_j-T_0)}}{\\tau}$\n",
    "\n",
    "= $NO_{2_{T0}}$ $e^{-(T_2-T_0)}$ + $\\sum_{i=1}^{m} LNO_{2_{t_i}} e^\\frac{{-(T_2-T_0+T_1-t_i)}}{\\tau}$ + $\\sum_{j=1}^{n} LNO_{2_{t_j}} e^\\frac{{-(t_j-T_0)}}{\\tau}$\n",
    "\n",
    "where $T_{<num>}$ is the TROPOMI overpass time,\n",
    "$NO_{2_{T<num>}}$ is the $NO_2$ above cloud in the mask,\n",
    "$t_{<num>}$ is the lightning occuring time in the mask,\n",
    "$LNO_{2_{t<num>}}$ is the produced $LNO_2$ by each flash which is called production efficiency (PE),\n",
    "and $\\tau$ is the $NO_2$ lifetime.\n",
    "\n",
    "If we assume the PE is constant in the period, then there're only two unknown number (PE and $\\tau$) for two equations.\n",
    "\n",
    "In other words, the three consecutive orbits are useful for estimating the mean PE and $\\tau$ from $T_0$ to $T_1$, which can be represented by local time or solar zenith angle."
   ]
  },
  {
   "cell_type": "markdown",
   "metadata": {},
   "source": [
    "### Pros\n",
    "\n",
    "- Lifetime and PE can be derived at the same time\n",
    "\n",
    "- Don't need to remove background NO2\n",
    "\n",
    "### Cons\n",
    "\n",
    "- Smaller SZA leads to larger NO2 VCD. So, there are other NO2 production sources and the $\\tau$ may be not actually constant.\n",
    "\n",
    "- assumption: the cloud is still at the similar level, otherwise the above-cloud NO2 will depends on cloud top height. But, maybe when the cloud is higher, there're some clouds are lower ...\n",
    "\n",
    "- the PE is the LNO2 PE above cloud\n"
   ]
  },
  {
   "cell_type": "markdown",
   "metadata": {},
   "source": [
    "## Method 2: cloud slicing"
   ]
  },
  {
   "cell_type": "markdown",
   "metadata": {},
   "source": [
    "![cloud slicing](./imgs/Choi_2014.png)"
   ]
  },
  {
   "cell_type": "markdown",
   "metadata": {},
   "source": [
    "### Prons\n",
    "\n",
    "- the mean mixing ratio between the highest and lowest upper tropospheric cloud can be derived\n",
    "\n",
    "### Cons\n",
    "\n",
    "- the regression is poor\n",
    "\n",
    "- estimatino of lifetime sounds impossible because of the high regression slope uncertainty\n",
    "\n",
    "- only works several hours after convection initiation when there're clouds of different levels\n",
    "\n",
    "- we need to subtract the background NO2 first and then apply cloud slicing\n",
    "\n",
    "- the mean mixing ratio is the mean upper tropospheric LNO2 mixing ratio\n",
    "\n",
    "- assumption: the sum of NO2 can stand for the integration of NO2 profile --> LNO2 mixing ratio above cloud\n",
    "\n",
    "- To get the LNO2 or LNOx PE, we need to apply the lifetime ...\n",
    "\n",
    "- the NO2 mean mixing ratio needs to be converted into NOx mixing ratio and profile. Note that the NO2:NOx is only well known for ~ 13:30 LT."
   ]
  },
  {
   "cell_type": "code",
   "execution_count": null,
   "metadata": {},
   "outputs": [],
   "source": []
  },
  {
   "cell_type": "code",
   "execution_count": null,
   "metadata": {},
   "outputs": [],
   "source": []
  }
 ],
 "metadata": {
  "interpreter": {
   "hash": "5c59143dddf9bb7cb19cf5c4e65abac3edd3adb579b9c354e95a8774ecff661b"
  },
  "kernelspec": {
   "display_name": "Python 3.9.7 ('base')",
   "language": "python",
   "name": "python3"
  },
  "language_info": {
   "name": "python",
   "version": "3.9.7"
  },
  "orig_nbformat": 4
 },
 "nbformat": 4,
 "nbformat_minor": 2
}
