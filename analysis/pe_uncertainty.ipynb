{
 "cells": [
  {
   "attachments": {},
   "cell_type": "markdown",
   "metadata": {},
   "source": [
    "This notebook aims to calculate the uncertainty of LNO2 PE caused by:\n",
    "\n",
    "- peak width of a priori LNO2 profile (160 hPa, 180 hPa, and 200 hPa)\n",
    "- SCD background (10th and 30th percentile)\n",
    "- NO2 lifetime (2 hour, 3 hour, and 6 hour)\n",
    "- IC:CG (2:1, 1:1, and 1:2)\n",
    "- confidence level for LNO$_2$ selection (80% and 70%)\n",
    "- cloud pressure ($\\pm$ 50 hPa)"
   ]
  },
  {
   "cell_type": "code",
   "execution_count": 1,
   "metadata": {},
   "outputs": [],
   "source": [
    "import pandas as pd\n",
    "import numpy as np"
   ]
  },
  {
   "cell_type": "code",
   "execution_count": 2,
   "metadata": {},
   "outputs": [],
   "source": [
    "from shapely.prepared import prep\n",
    "import cartopy.io.shapereader as shpreader\n",
    "from shapely.ops import unary_union\n",
    "import shapely.vectorized\n",
    "\n",
    "def get_geom(name, category='physical', resolution='50m'):\n",
    "    # https://stackoverflow.com/questions/47894513/\n",
    "    #    checking-if-a-geocoordinate-point-is-land-or-ocean-with-cartopy\n",
    "    shp_fname = shpreader.natural_earth(name=name,\n",
    "                                        resolution=resolution,\n",
    "                                        category=category\n",
    "                                       )\n",
    "    if name == 'coastline':\n",
    "        # https://shapely.readthedocs.io/en/stable/manual.html#object.buffer\n",
    "        geom = unary_union(list(shpreader.Reader(shp_fname).geometries())).buffer(0.5)\n",
    "    else:\n",
    "        geom = unary_union(list(shpreader.Reader(shp_fname).geometries()))\n",
    "\n",
    "    return prep(geom)\n",
    "\n",
    "land_geom = get_geom('land')\n",
    "coast_geom = get_geom('coastline')\n",
    "ocean_geom = get_geom('ocean')"
   ]
  },
  {
   "cell_type": "code",
   "execution_count": 3,
   "metadata": {},
   "outputs": [],
   "source": [
    "def filter_case(df):\n",
    "    df_lno2 = df[(df['pe_lno2']>0)&(df['pe_lno2geo']>0)&(df['pe_lno2vis'])>0]\n",
    "\n",
    "    return df_lno2\n",
    "\n",
    "\n",
    "def read_data(filename):\n",
    "    df = pd.read_csv(filename)\n",
    "    df = filter_case(df)\n",
    "\n",
    "    cond_coast = shapely.vectorized.contains(coast_geom, df['longitude'], df['latitude'])\n",
    "    cond_land = shapely.vectorized.contains(land_geom, df['longitude'], df['latitude'])\n",
    "    cond_ocean = shapely.vectorized.contains(ocean_geom, df['longitude'], df['latitude'])\n",
    "\n",
    "    region = np.argmax(np.vstack((cond_coast, cond_land, cond_ocean))==1, axis=0)\n",
    "    df['region'] = region\n",
    "\n",
    "    # df['time'] = pd.to_datetime(df['time'])\n",
    "    # df['lfr'] = df['nlightning']/df_lno2['area']\n",
    "\n",
    "    return df\n",
    "\n",
    "\n",
    "def correct_lightning(df, coeff=4):\n",
    "    # corrected stroke considering the detection efficiency\n",
    "    # IC:CG 1) 1:1 -> 4; 2) 2:1 -> 6 3) 1:2 -> 3\n",
    "    df['nlightning'] *= coeff\n",
    "    df['pe_lno2'] /= coeff\n",
    "\n",
    "\n",
    "def perturb(df):\n",
    "    # 0: 'coast', 1: 'land', 2: 'ocean'\n",
    "    pe_coast = df['pe_lno2'][df['region']==0].median()\n",
    "    pe_land = df['pe_lno2'][df['region']==1].median()\n",
    "    pe_ocean = df['pe_lno2'][df['region']==2].median()\n",
    "    pe = df['pe_lno2'].median()\n",
    "\n",
    "    return pe_coast, pe_land, pe_ocean, pe"
   ]
  },
  {
   "cell_type": "markdown",
   "metadata": {},
   "source": [
    "## Default"
   ]
  },
  {
   "cell_type": "code",
   "execution_count": 4,
   "metadata": {},
   "outputs": [],
   "source": [
    "df_lno2 = read_data('../data/S5P_LNO2_production.csv')\n",
    "\n",
    "correct_lightning(df_lno2, coeff=4)\n",
    "\n",
    "pe_coast, pe_land, pe_ocean, pe = perturb(df_lno2)"
   ]
  },
  {
   "cell_type": "markdown",
   "metadata": {},
   "source": [
    "## Uncertainty"
   ]
  },
  {
   "cell_type": "code",
   "execution_count": 5,
   "metadata": {},
   "outputs": [],
   "source": [
    "def reldiff(v1, v2, v3):\n",
    "    return (((v1-v3)/v3-(v2-v3)/v3)/2)\n",
    "\n",
    "def reldiff2(v1, v2):\n",
    "    return (v1-v2)/v2"
   ]
  },
  {
   "cell_type": "markdown",
   "metadata": {},
   "source": [
    "### peak width"
   ]
  },
  {
   "cell_type": "code",
   "execution_count": 6,
   "metadata": {},
   "outputs": [],
   "source": [
    "df_lno2_high_pw = read_data('../data/S5P_LNO2_production_peakwidth200.csv')\n",
    "correct_lightning(df_lno2_high_pw, coeff=4)\n",
    "\n",
    "df_lno2_low_pw = read_data('../data/S5P_LNO2_production_peakwidth160.csv')\n",
    "correct_lightning(df_lno2_low_pw, coeff=4)"
   ]
  },
  {
   "cell_type": "code",
   "execution_count": 7,
   "metadata": {},
   "outputs": [],
   "source": [
    "pe_coast_high_pw, pe_land_high_pw, pe_ocean_high_pw, pe_high_pw = perturb(df_lno2_high_pw)\n",
    "pe_coast_low_pw, pe_land_low_pw, pe_ocean_low_pw, pe_low_pw = perturb(df_lno2_low_pw)"
   ]
  },
  {
   "cell_type": "code",
   "execution_count": 8,
   "metadata": {},
   "outputs": [
    {
     "name": "stdout",
     "output_type": "stream",
     "text": [
      "Uncertainty (%) Coast:  7.225549548122315 Land:  5.985004357092456 Ocean:  13.354405947040304 All:  7.249209819227446\n"
     ]
    }
   ],
   "source": [
    "print('Uncertainty (%)',\n",
    "'Coast: ' ,reldiff(pe_coast_high_pw, pe_coast_low_pw, pe_coast)*100,\n",
    "'Land: ' ,reldiff(pe_land_high_pw, pe_land_low_pw, pe_land)*100,\n",
    "'Ocean: ' ,reldiff(pe_ocean_high_pw, pe_ocean_low_pw, pe_ocean)*100,\n",
    "'All: ' ,reldiff(pe_high_pw, pe_low_pw, pe)*100,\n",
    ")\n",
    "\n",
    "uncert_pw = reldiff(pe_high_pw, pe_low_pw, pe)*100"
   ]
  },
  {
   "cell_type": "markdown",
   "metadata": {},
   "source": [
    "### lifetime"
   ]
  },
  {
   "cell_type": "code",
   "execution_count": 9,
   "metadata": {},
   "outputs": [],
   "source": [
    "df_lno2_low_tau = read_data('../data/S5P_LNO2_production_tau2.csv')\n",
    "correct_lightning(df_lno2_low_tau, coeff=4)\n",
    "\n",
    "df_lno2_high_tau = read_data('../data/S5P_LNO2_production_tau4.csv')\n",
    "correct_lightning(df_lno2_high_tau, coeff=4)\n",
    "\n",
    "pe_coast_high_tau, pe_land_high_tau, pe_ocean_high_tau, pe_high_tau = perturb(df_lno2_high_tau)\n",
    "pe_coast_low_tau, pe_land_low_tau, pe_ocean_low_tau, pe_low_tau = perturb(df_lno2_low_tau)"
   ]
  },
  {
   "cell_type": "code",
   "execution_count": 10,
   "metadata": {},
   "outputs": [
    {
     "name": "stdout",
     "output_type": "stream",
     "text": [
      "Uncertainty (%) Coast:  15.8349180220144 Land:  155.2413471611436 Ocean:  36.99485890518229 All:  36.47939717311078\n"
     ]
    }
   ],
   "source": [
    "print('Uncertainty (%)',\n",
    "'Coast: ' ,reldiff(pe_coast_low_tau, pe_coast_high_tau, pe_coast)*100,\n",
    "'Land: ' ,reldiff(pe_land_low_tau, pe_land_high_tau,  pe_land)*100,\n",
    "'Ocean: ' ,reldiff(pe_ocean_low_tau, pe_ocean_high_tau,  pe_ocean)*100,\n",
    "'All: ' ,reldiff(pe_low_tau, pe_high_tau, pe)*100,\n",
    ")\n",
    "\n",
    "uncert_lifetime = reldiff(pe_low_tau, pe_high_tau, pe)*100"
   ]
  },
  {
   "cell_type": "markdown",
   "metadata": {},
   "source": [
    "### background"
   ]
  },
  {
   "cell_type": "code",
   "execution_count": 11,
   "metadata": {},
   "outputs": [],
   "source": [
    "df_lno2_low_bkgd = read_data('../data/S5P_LNO2_production_bkgd10.csv')\n",
    "correct_lightning(df_lno2_low_bkgd, coeff=4)\n",
    "\n",
    "pe_coast_low_bkgd, pe_land_low_bkgd, pe_ocean_low_bkgd, pe_low_bkgd = perturb(df_lno2_low_bkgd)"
   ]
  },
  {
   "cell_type": "code",
   "execution_count": 12,
   "metadata": {},
   "outputs": [
    {
     "name": "stdout",
     "output_type": "stream",
     "text": [
      "Uncertainty (%) Coast:  23.39541119415398 Land:  58.58515649056712 Ocean:  12.819917513210791 All:  1.769017507145169\n"
     ]
    }
   ],
   "source": [
    "print('Uncertainty (%)',\n",
    "'Coast: ' ,reldiff2(pe_coast_low_bkgd, pe_coast)*100,\n",
    "'Land: ' ,reldiff2(pe_land_low_bkgd, pe_land)*100,\n",
    "'Ocean: ' ,reldiff2(pe_ocean_low_bkgd,  pe_ocean)*100,\n",
    "'All: ' ,reldiff2(pe_low_bkgd, pe)*100,\n",
    ")\n",
    "\n",
    "uncert_bkgd = reldiff2(pe_low_bkgd, pe)*100"
   ]
  },
  {
   "cell_type": "markdown",
   "metadata": {},
   "source": [
    "### IC:CG"
   ]
  },
  {
   "cell_type": "code",
   "execution_count": 13,
   "metadata": {},
   "outputs": [],
   "source": [
    "df_lno2_low_ratio = read_data('../data/S5P_LNO2_production.csv')\n",
    "correct_lightning(df_lno2_low_ratio, coeff=3)\n",
    "pe_coast_low_ratio, pe_land_low_ratio, pe_ocean_low_ratio, pe_low_ratio = perturb(df_lno2_low_ratio)\n",
    "\n",
    "df_lno2_high_ratio = read_data('../data/S5P_LNO2_production.csv')\n",
    "correct_lightning(df_lno2_high_ratio, coeff=6)\n",
    "pe_coast_high_ratio, pe_land_high_ratio, pe_ocean_high_ratio, pe_high_ratio = perturb(df_lno2_high_ratio)"
   ]
  },
  {
   "cell_type": "code",
   "execution_count": 14,
   "metadata": {},
   "outputs": [
    {
     "name": "stdout",
     "output_type": "stream",
     "text": [
      "Uncertainty (%) Coast:  33.33333333333333 Land:  33.33333333333333 Ocean:  33.333333333333336 All:  33.33333333333333\n"
     ]
    }
   ],
   "source": [
    "print('Uncertainty (%)',\n",
    "'Coast: ' ,reldiff(pe_coast_low_ratio, pe_coast_high_ratio, pe_coast)*100,\n",
    "'Land: ' ,reldiff(pe_land_low_ratio, pe_land_high_ratio,  pe_land)*100,\n",
    "'Ocean: ' ,reldiff(pe_ocean_low_ratio, pe_ocean_high_ratio,  pe_ocean)*100,\n",
    "'All: ' ,reldiff(pe_low_ratio, pe_high_ratio, pe)*100,\n",
    ")\n",
    "\n",
    "uncert_ratio = reldiff(pe_low_ratio, pe_high_ratio, pe)*100"
   ]
  },
  {
   "attachments": {},
   "cell_type": "markdown",
   "metadata": {},
   "source": [
    "### confidence level of selection"
   ]
  },
  {
   "cell_type": "code",
   "execution_count": 15,
   "metadata": {},
   "outputs": [],
   "source": [
    "df_lno2_high_alpha = read_data('../data/S5P_LNO2_production_alpha30.csv')\n",
    "correct_lightning(df_lno2_high_alpha, coeff=4)\n",
    "\n",
    "pe_coast_high_alpha, pe_land_high_alpha, pe_ocean_high_alpha, pe_high_alpha = perturb(df_lno2_high_alpha)"
   ]
  },
  {
   "cell_type": "code",
   "execution_count": 16,
   "metadata": {},
   "outputs": [
    {
     "name": "stdout",
     "output_type": "stream",
     "text": [
      "Uncertainty (%) Coast:  1.6163705919000984 Land:  223.72776191159588 Ocean:  26.70601416007437 All:  -12.681077016229139\n"
     ]
    }
   ],
   "source": [
    "print('Uncertainty (%)',\n",
    "'Coast: ' ,reldiff2(pe_coast_high_alpha, pe_coast)*100,\n",
    "'Land: ' ,reldiff2(pe_land_high_alpha, pe_land)*100,\n",
    "'Ocean: ' ,reldiff2(pe_ocean_high_alpha,  pe_ocean)*100,\n",
    "'All: ' ,reldiff2(pe_high_alpha, pe)*100,\n",
    ")\n",
    "\n",
    "uncert_alpha = reldiff2(pe_high_alpha, pe)*100"
   ]
  },
  {
   "attachments": {},
   "cell_type": "markdown",
   "metadata": {},
   "source": [
    "### Cloud pressure"
   ]
  },
  {
   "cell_type": "code",
   "execution_count": 17,
   "metadata": {},
   "outputs": [],
   "source": [
    "df_lno2_low_cp = read_data('../data/S5P_LNO2_production_peakoffest50.csv')\n",
    "correct_lightning(df_lno2_low_cp, coeff=4)\n",
    "\n",
    "df_lno2_high_cp = read_data('../data/S5P_LNO2_production_peakoffest-50.csv')\n",
    "correct_lightning(df_lno2_high_cp, coeff=4)\n",
    "\n",
    "pe_coast_high_cp, pe_land_high_cp, pe_ocean_high_cp, pe_high_cp = perturb(df_lno2_high_cp)\n",
    "pe_coast_low_cp, pe_land_low_cp, pe_ocean_low_cp, pe_low_cp = perturb(df_lno2_low_cp)"
   ]
  },
  {
   "cell_type": "code",
   "execution_count": 18,
   "metadata": {},
   "outputs": [
    {
     "name": "stdout",
     "output_type": "stream",
     "text": [
      "Uncertainty (%) Coast:  12.242449786730651 Land:  13.728866591924499 Ocean:  -11.217293390862537 All:  7.46665239185912\n"
     ]
    }
   ],
   "source": [
    "print('Uncertainty (%)',\n",
    "'Coast: ' ,reldiff(pe_coast_low_cp, pe_coast_high_cp, pe_coast)*100,\n",
    "'Land: ' ,reldiff(pe_land_low_cp, pe_land_high_cp,  pe_land)*100,\n",
    "'Ocean: ' ,reldiff(pe_ocean_low_cp, pe_ocean_high_cp,  pe_ocean)*100,\n",
    "'All: ' ,reldiff(pe_low_cp, pe_high_cp, pe)*100,\n",
    ")\n",
    "\n",
    "uncert_cp = reldiff(pe_low_cp, pe_high_cp, pe)*100"
   ]
  },
  {
   "cell_type": "markdown",
   "metadata": {},
   "source": [
    "### Total uncetainty"
   ]
  },
  {
   "cell_type": "code",
   "execution_count": 19,
   "metadata": {},
   "outputs": [
    {
     "data": {
      "text/plain": [
       "0.5304807826303262"
      ]
     },
     "execution_count": 19,
     "metadata": {},
     "output_type": "execute_result"
    }
   ],
   "source": [
    "uncert_other = 10\n",
    "np.sqrt(uncert_pw**2+uncert_lifetime**2+uncert_bkgd**2+uncert_alpha**2+uncert_ratio**2+uncert_cp**2+uncert_other**2)/100"
   ]
  },
  {
   "cell_type": "code",
   "execution_count": 20,
   "metadata": {},
   "outputs": [
    {
     "name": "stdout",
     "output_type": "stream",
     "text": [
      "peak width:  7.249209819227446 lifetime:  36.47939717311078 background:  1.769017507145169 LNO2 selection:  -12.681077016229139 IC:CG:  33.33333333333333 Cloud pressure:  7.46665239185912 Others:  10\n"
     ]
    }
   ],
   "source": [
    "print('peak width: ', uncert_pw, 'lifetime: ', uncert_lifetime,\n",
    "'background: ', uncert_bkgd, 'LNO2 selection: ', uncert_alpha, 'IC:CG: ', uncert_ratio,\n",
    "'Cloud pressure: ', uncert_cp, 'Others: ', uncert_other)"
   ]
  }
 ],
 "metadata": {
  "kernelspec": {
   "display_name": "Python 3.10.5 ('arctic')",
   "language": "python",
   "name": "python3"
  },
  "language_info": {
   "codemirror_mode": {
    "name": "ipython",
    "version": 3
   },
   "file_extension": ".py",
   "mimetype": "text/x-python",
   "name": "python",
   "nbconvert_exporter": "python",
   "pygments_lexer": "ipython3",
   "version": "3.10.5"
  },
  "orig_nbformat": 4,
  "vscode": {
   "interpreter": {
    "hash": "4bb99803c8a750bdcc08b2166dee7f23e12226de3d9161d2640c3715055b8629"
   }
  }
 },
 "nbformat": 4,
 "nbformat_minor": 2
}
